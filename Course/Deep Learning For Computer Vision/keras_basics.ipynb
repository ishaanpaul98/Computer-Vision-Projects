{
 "cells": [
  {
   "cell_type": "markdown",
   "metadata": {},
   "source": [
    "# Imports"
   ]
  },
  {
   "cell_type": "code",
   "execution_count": 21,
   "metadata": {},
   "outputs": [],
   "source": [
    "import numpy as np\n",
    "from numpy import genfromtxt\n",
    "from sklearn.model_selection import train_test_split\n",
    "from sklearn.preprocessing import MinMaxScaler\n",
    "from keras.models import Sequential\n",
    "from keras.layers import Dense\n",
    "from sklearn.metrics import confusion_matrix, classification_report"
   ]
  },
  {
   "cell_type": "code",
   "execution_count": 2,
   "metadata": {},
   "outputs": [],
   "source": [
    "data = genfromtxt('Assets/bank_note_data.txt', delimiter=',')"
   ]
  },
  {
   "cell_type": "code",
   "execution_count": 3,
   "metadata": {},
   "outputs": [
    {
     "data": {
      "text/plain": [
       "array([[  3.6216 ,   8.6661 ,  -2.8073 ,  -0.44699,   0.     ],\n",
       "       [  4.5459 ,   8.1674 ,  -2.4586 ,  -1.4621 ,   0.     ],\n",
       "       [  3.866  ,  -2.6383 ,   1.9242 ,   0.10645,   0.     ],\n",
       "       ...,\n",
       "       [ -3.7503 , -13.4586 ,  17.5932 ,  -2.7771 ,   1.     ],\n",
       "       [ -3.5637 ,  -8.3827 ,  12.393  ,  -1.2823 ,   1.     ],\n",
       "       [ -2.5419 ,  -0.65804,   2.6842 ,   1.1952 ,   1.     ]])"
      ]
     },
     "execution_count": 3,
     "metadata": {},
     "output_type": "execute_result"
    }
   ],
   "source": [
    "data"
   ]
  },
  {
   "cell_type": "code",
   "execution_count": 4,
   "metadata": {},
   "outputs": [],
   "source": [
    "labels = data[:, 4]"
   ]
  },
  {
   "cell_type": "code",
   "execution_count": 5,
   "metadata": {},
   "outputs": [
    {
     "data": {
      "text/plain": [
       "array([0., 0., 0., ..., 1., 1., 1.])"
      ]
     },
     "execution_count": 5,
     "metadata": {},
     "output_type": "execute_result"
    }
   ],
   "source": [
    "labels"
   ]
  },
  {
   "cell_type": "code",
   "execution_count": 6,
   "metadata": {},
   "outputs": [],
   "source": [
    "features = data[:, 0:4]"
   ]
  },
  {
   "cell_type": "code",
   "execution_count": 7,
   "metadata": {},
   "outputs": [
    {
     "data": {
      "text/plain": [
       "array([[  3.6216 ,   8.6661 ,  -2.8073 ,  -0.44699],\n",
       "       [  4.5459 ,   8.1674 ,  -2.4586 ,  -1.4621 ],\n",
       "       [  3.866  ,  -2.6383 ,   1.9242 ,   0.10645],\n",
       "       ...,\n",
       "       [ -3.7503 , -13.4586 ,  17.5932 ,  -2.7771 ],\n",
       "       [ -3.5637 ,  -8.3827 ,  12.393  ,  -1.2823 ],\n",
       "       [ -2.5419 ,  -0.65804,   2.6842 ,   1.1952 ]])"
      ]
     },
     "execution_count": 7,
     "metadata": {},
     "output_type": "execute_result"
    }
   ],
   "source": [
    "features"
   ]
  },
  {
   "cell_type": "code",
   "execution_count": 8,
   "metadata": {},
   "outputs": [],
   "source": [
    "X = features\n",
    "y = labels"
   ]
  },
  {
   "cell_type": "code",
   "execution_count": 9,
   "metadata": {},
   "outputs": [],
   "source": [
    "X_train, X_test, y_train, y_test = train_test_split(X, y, test_size=0.33, random_state=42)"
   ]
  },
  {
   "cell_type": "code",
   "execution_count": 10,
   "metadata": {},
   "outputs": [
    {
     "data": {
      "text/plain": [
       "array([[-0.8734  , -0.033118, -0.20165 ,  0.55774 ],\n",
       "       [ 2.0177  ,  1.7982  , -2.9581  ,  0.2099  ],\n",
       "       [-0.36038 ,  4.1158  ,  3.1143  , -0.37199 ],\n",
       "       ...,\n",
       "       [-7.0364  ,  9.2931  ,  0.16594 , -4.5396  ],\n",
       "       [-3.4605  ,  2.6901  ,  0.16165 , -1.0224  ],\n",
       "       [-3.3582  , -7.2404  , 11.4419  , -0.57113 ]])"
      ]
     },
     "execution_count": 10,
     "metadata": {},
     "output_type": "execute_result"
    }
   ],
   "source": [
    "X_train"
   ]
  },
  {
   "cell_type": "code",
   "execution_count": 11,
   "metadata": {},
   "outputs": [],
   "source": [
    "scaler_object = MinMaxScaler()"
   ]
  },
  {
   "cell_type": "code",
   "execution_count": 12,
   "metadata": {},
   "outputs": [
    {
     "data": {
      "text/html": [
       "<style>#sk-container-id-1 {color: black;background-color: white;}#sk-container-id-1 pre{padding: 0;}#sk-container-id-1 div.sk-toggleable {background-color: white;}#sk-container-id-1 label.sk-toggleable__label {cursor: pointer;display: block;width: 100%;margin-bottom: 0;padding: 0.3em;box-sizing: border-box;text-align: center;}#sk-container-id-1 label.sk-toggleable__label-arrow:before {content: \"▸\";float: left;margin-right: 0.25em;color: #696969;}#sk-container-id-1 label.sk-toggleable__label-arrow:hover:before {color: black;}#sk-container-id-1 div.sk-estimator:hover label.sk-toggleable__label-arrow:before {color: black;}#sk-container-id-1 div.sk-toggleable__content {max-height: 0;max-width: 0;overflow: hidden;text-align: left;background-color: #f0f8ff;}#sk-container-id-1 div.sk-toggleable__content pre {margin: 0.2em;color: black;border-radius: 0.25em;background-color: #f0f8ff;}#sk-container-id-1 input.sk-toggleable__control:checked~div.sk-toggleable__content {max-height: 200px;max-width: 100%;overflow: auto;}#sk-container-id-1 input.sk-toggleable__control:checked~label.sk-toggleable__label-arrow:before {content: \"▾\";}#sk-container-id-1 div.sk-estimator input.sk-toggleable__control:checked~label.sk-toggleable__label {background-color: #d4ebff;}#sk-container-id-1 div.sk-label input.sk-toggleable__control:checked~label.sk-toggleable__label {background-color: #d4ebff;}#sk-container-id-1 input.sk-hidden--visually {border: 0;clip: rect(1px 1px 1px 1px);clip: rect(1px, 1px, 1px, 1px);height: 1px;margin: -1px;overflow: hidden;padding: 0;position: absolute;width: 1px;}#sk-container-id-1 div.sk-estimator {font-family: monospace;background-color: #f0f8ff;border: 1px dotted black;border-radius: 0.25em;box-sizing: border-box;margin-bottom: 0.5em;}#sk-container-id-1 div.sk-estimator:hover {background-color: #d4ebff;}#sk-container-id-1 div.sk-parallel-item::after {content: \"\";width: 100%;border-bottom: 1px solid gray;flex-grow: 1;}#sk-container-id-1 div.sk-label:hover label.sk-toggleable__label {background-color: #d4ebff;}#sk-container-id-1 div.sk-serial::before {content: \"\";position: absolute;border-left: 1px solid gray;box-sizing: border-box;top: 0;bottom: 0;left: 50%;z-index: 0;}#sk-container-id-1 div.sk-serial {display: flex;flex-direction: column;align-items: center;background-color: white;padding-right: 0.2em;padding-left: 0.2em;position: relative;}#sk-container-id-1 div.sk-item {position: relative;z-index: 1;}#sk-container-id-1 div.sk-parallel {display: flex;align-items: stretch;justify-content: center;background-color: white;position: relative;}#sk-container-id-1 div.sk-item::before, #sk-container-id-1 div.sk-parallel-item::before {content: \"\";position: absolute;border-left: 1px solid gray;box-sizing: border-box;top: 0;bottom: 0;left: 50%;z-index: -1;}#sk-container-id-1 div.sk-parallel-item {display: flex;flex-direction: column;z-index: 1;position: relative;background-color: white;}#sk-container-id-1 div.sk-parallel-item:first-child::after {align-self: flex-end;width: 50%;}#sk-container-id-1 div.sk-parallel-item:last-child::after {align-self: flex-start;width: 50%;}#sk-container-id-1 div.sk-parallel-item:only-child::after {width: 0;}#sk-container-id-1 div.sk-dashed-wrapped {border: 1px dashed gray;margin: 0 0.4em 0.5em 0.4em;box-sizing: border-box;padding-bottom: 0.4em;background-color: white;}#sk-container-id-1 div.sk-label label {font-family: monospace;font-weight: bold;display: inline-block;line-height: 1.2em;}#sk-container-id-1 div.sk-label-container {text-align: center;}#sk-container-id-1 div.sk-container {/* jupyter's `normalize.less` sets `[hidden] { display: none; }` but bootstrap.min.css set `[hidden] { display: none !important; }` so we also need the `!important` here to be able to override the default hidden behavior on the sphinx rendered scikit-learn.org. See: https://github.com/scikit-learn/scikit-learn/issues/21755 */display: inline-block !important;position: relative;}#sk-container-id-1 div.sk-text-repr-fallback {display: none;}</style><div id=\"sk-container-id-1\" class=\"sk-top-container\"><div class=\"sk-text-repr-fallback\"><pre>MinMaxScaler()</pre><b>In a Jupyter environment, please rerun this cell to show the HTML representation or trust the notebook. <br />On GitHub, the HTML representation is unable to render, please try loading this page with nbviewer.org.</b></div><div class=\"sk-container\" hidden><div class=\"sk-item\"><div class=\"sk-estimator sk-toggleable\"><input class=\"sk-toggleable__control sk-hidden--visually\" id=\"sk-estimator-id-1\" type=\"checkbox\" checked><label for=\"sk-estimator-id-1\" class=\"sk-toggleable__label sk-toggleable__label-arrow\">MinMaxScaler</label><div class=\"sk-toggleable__content\"><pre>MinMaxScaler()</pre></div></div></div></div></div>"
      ],
      "text/plain": [
       "MinMaxScaler()"
      ]
     },
     "execution_count": 12,
     "metadata": {},
     "output_type": "execute_result"
    }
   ],
   "source": [
    "scaler_object.fit(X_train)"
   ]
  },
  {
   "cell_type": "code",
   "execution_count": 13,
   "metadata": {},
   "outputs": [],
   "source": [
    "scaled_X_train = scaler_object.transform(X_train)"
   ]
  },
  {
   "cell_type": "code",
   "execution_count": 14,
   "metadata": {},
   "outputs": [],
   "source": [
    "scaled_X_test = scaler_object.transform(X_test)"
   ]
  },
  {
   "cell_type": "code",
   "execution_count": 15,
   "metadata": {},
   "outputs": [
    {
     "data": {
      "text/plain": [
       "array([[4.44850688e-01, 5.14130449e-01, 2.18194638e-01, 8.50172258e-01],\n",
       "       [6.53339968e-01, 5.82655745e-01, 9.93242398e-02, 8.17696322e-01],\n",
       "       [4.81846700e-01, 6.69377018e-01, 3.61193167e-01, 7.63368407e-01],\n",
       "       ...,\n",
       "       [4.11050776e-04, 8.63104170e-01, 2.34046756e-01, 3.74261253e-01],\n",
       "       [2.58284115e-01, 6.16029366e-01, 2.33861752e-01, 7.02643151e-01],\n",
       "       [2.65661395e-01, 2.44444278e-01, 7.20316361e-01, 7.44775785e-01]])"
      ]
     },
     "execution_count": 15,
     "metadata": {},
     "output_type": "execute_result"
    }
   ],
   "source": [
    "scaled_X_train"
   ]
  },
  {
   "cell_type": "code",
   "execution_count": 17,
   "metadata": {},
   "outputs": [],
   "source": [
    "model = Sequential()\n",
    "\n",
    "model.add(Dense(4, input_dim = 4, activation='relu'))\n",
    "model.add(Dense(8, activation='relu'))\n",
    "model.add(Dense(1, activation='sigmoid'))"
   ]
  },
  {
   "cell_type": "code",
   "execution_count": 18,
   "metadata": {},
   "outputs": [],
   "source": [
    "model.compile(loss='binary_crossentropy', optimizer='adam', metrics=['accuracy'])"
   ]
  },
  {
   "cell_type": "code",
   "execution_count": 19,
   "metadata": {},
   "outputs": [
    {
     "name": "stdout",
     "output_type": "stream",
     "text": [
      "Epoch 1/50\n",
      "29/29 - 1s - loss: 0.6864 - accuracy: 0.5560 - 563ms/epoch - 19ms/step\n",
      "Epoch 2/50\n",
      "29/29 - 0s - loss: 0.6777 - accuracy: 0.5669 - 21ms/epoch - 713us/step\n",
      "Epoch 3/50\n",
      "29/29 - 0s - loss: 0.6669 - accuracy: 0.6007 - 23ms/epoch - 779us/step\n",
      "Epoch 4/50\n",
      "29/29 - 0s - loss: 0.6545 - accuracy: 0.6888 - 25ms/epoch - 845us/step\n",
      "Epoch 5/50\n",
      "29/29 - 0s - loss: 0.6427 - accuracy: 0.7095 - 25ms/epoch - 845us/step\n",
      "Epoch 6/50\n",
      "29/29 - 0s - loss: 0.6299 - accuracy: 0.7584 - 24ms/epoch - 836us/step\n",
      "Epoch 7/50\n",
      "29/29 - 0s - loss: 0.6151 - accuracy: 0.7737 - 23ms/epoch - 784us/step\n",
      "Epoch 8/50\n",
      "29/29 - 0s - loss: 0.5979 - accuracy: 0.8150 - 25ms/epoch - 855us/step\n",
      "Epoch 9/50\n",
      "29/29 - 0s - loss: 0.5795 - accuracy: 0.8161 - 23ms/epoch - 791us/step\n",
      "Epoch 10/50\n",
      "29/29 - 0s - loss: 0.5591 - accuracy: 0.8183 - 21ms/epoch - 707us/step\n",
      "Epoch 11/50\n",
      "29/29 - 0s - loss: 0.5373 - accuracy: 0.8292 - 21ms/epoch - 715us/step\n",
      "Epoch 12/50\n",
      "29/29 - 0s - loss: 0.5151 - accuracy: 0.8379 - 22ms/epoch - 771us/step\n",
      "Epoch 13/50\n",
      "29/29 - 0s - loss: 0.4929 - accuracy: 0.8575 - 21ms/epoch - 720us/step\n",
      "Epoch 14/50\n",
      "29/29 - 0s - loss: 0.4711 - accuracy: 0.8705 - 22ms/epoch - 743us/step\n",
      "Epoch 15/50\n",
      "29/29 - 0s - loss: 0.4503 - accuracy: 0.8564 - 21ms/epoch - 735us/step\n",
      "Epoch 16/50\n",
      "29/29 - 0s - loss: 0.4296 - accuracy: 0.8890 - 23ms/epoch - 799us/step\n",
      "Epoch 17/50\n",
      "29/29 - 0s - loss: 0.4102 - accuracy: 0.8836 - 22ms/epoch - 748us/step\n",
      "Epoch 18/50\n",
      "29/29 - 0s - loss: 0.3912 - accuracy: 0.8934 - 22ms/epoch - 761us/step\n",
      "Epoch 19/50\n",
      "29/29 - 0s - loss: 0.3736 - accuracy: 0.8955 - 28ms/epoch - 953us/step\n",
      "Epoch 20/50\n",
      "29/29 - 0s - loss: 0.3571 - accuracy: 0.8988 - 22ms/epoch - 765us/step\n",
      "Epoch 21/50\n",
      "29/29 - 0s - loss: 0.3409 - accuracy: 0.9032 - 21ms/epoch - 726us/step\n",
      "Epoch 22/50\n",
      "29/29 - 0s - loss: 0.3268 - accuracy: 0.9108 - 22ms/epoch - 750us/step\n",
      "Epoch 23/50\n",
      "29/29 - 0s - loss: 0.3134 - accuracy: 0.9108 - 22ms/epoch - 758us/step\n",
      "Epoch 24/50\n",
      "29/29 - 0s - loss: 0.3002 - accuracy: 0.9173 - 21ms/epoch - 723us/step\n",
      "Epoch 25/50\n",
      "29/29 - 0s - loss: 0.2884 - accuracy: 0.9184 - 20ms/epoch - 679us/step\n",
      "Epoch 26/50\n",
      "29/29 - 0s - loss: 0.2768 - accuracy: 0.9271 - 20ms/epoch - 694us/step\n",
      "Epoch 27/50\n",
      "29/29 - 0s - loss: 0.2657 - accuracy: 0.9325 - 21ms/epoch - 711us/step\n",
      "Epoch 28/50\n",
      "29/29 - 0s - loss: 0.2554 - accuracy: 0.9369 - 19ms/epoch - 667us/step\n",
      "Epoch 29/50\n",
      "29/29 - 0s - loss: 0.2458 - accuracy: 0.9358 - 20ms/epoch - 696us/step\n",
      "Epoch 30/50\n",
      "29/29 - 0s - loss: 0.2360 - accuracy: 0.9391 - 20ms/epoch - 696us/step\n",
      "Epoch 31/50\n",
      "29/29 - 0s - loss: 0.2273 - accuracy: 0.9412 - 20ms/epoch - 690us/step\n",
      "Epoch 32/50\n",
      "29/29 - 0s - loss: 0.2192 - accuracy: 0.9434 - 21ms/epoch - 727us/step\n",
      "Epoch 33/50\n",
      "29/29 - 0s - loss: 0.2115 - accuracy: 0.9456 - 18ms/epoch - 617us/step\n",
      "Epoch 34/50\n",
      "29/29 - 0s - loss: 0.2044 - accuracy: 0.9467 - 20ms/epoch - 684us/step\n",
      "Epoch 35/50\n",
      "29/29 - 0s - loss: 0.1964 - accuracy: 0.9521 - 20ms/epoch - 700us/step\n",
      "Epoch 36/50\n",
      "29/29 - 0s - loss: 0.1916 - accuracy: 0.9510 - 19ms/epoch - 640us/step\n",
      "Epoch 37/50\n",
      "29/29 - 0s - loss: 0.1842 - accuracy: 0.9532 - 20ms/epoch - 700us/step\n",
      "Epoch 38/50\n",
      "29/29 - 0s - loss: 0.1769 - accuracy: 0.9587 - 20ms/epoch - 678us/step\n",
      "Epoch 39/50\n",
      "29/29 - 0s - loss: 0.1705 - accuracy: 0.9587 - 19ms/epoch - 646us/step\n",
      "Epoch 40/50\n",
      "29/29 - 0s - loss: 0.1647 - accuracy: 0.9576 - 20ms/epoch - 704us/step\n",
      "Epoch 41/50\n",
      "29/29 - 0s - loss: 0.1586 - accuracy: 0.9608 - 19ms/epoch - 657us/step\n",
      "Epoch 42/50\n",
      "29/29 - 0s - loss: 0.1531 - accuracy: 0.9641 - 18ms/epoch - 616us/step\n",
      "Epoch 43/50\n",
      "29/29 - 0s - loss: 0.1479 - accuracy: 0.9652 - 20ms/epoch - 678us/step\n",
      "Epoch 44/50\n",
      "29/29 - 0s - loss: 0.1429 - accuracy: 0.9674 - 20ms/epoch - 684us/step\n",
      "Epoch 45/50\n",
      "29/29 - 0s - loss: 0.1385 - accuracy: 0.9663 - 19ms/epoch - 644us/step\n",
      "Epoch 46/50\n",
      "29/29 - 0s - loss: 0.1341 - accuracy: 0.9684 - 20ms/epoch - 687us/step\n",
      "Epoch 47/50\n",
      "29/29 - 0s - loss: 0.1304 - accuracy: 0.9674 - 21ms/epoch - 709us/step\n",
      "Epoch 48/50\n",
      "29/29 - 0s - loss: 0.1262 - accuracy: 0.9684 - 20ms/epoch - 675us/step\n",
      "Epoch 49/50\n",
      "29/29 - 0s - loss: 0.1218 - accuracy: 0.9684 - 20ms/epoch - 690us/step\n",
      "Epoch 50/50\n",
      "29/29 - 0s - loss: 0.1180 - accuracy: 0.9695 - 20ms/epoch - 700us/step\n"
     ]
    },
    {
     "data": {
      "text/plain": [
       "<keras.callbacks.History at 0x1c978d7e8f0>"
      ]
     },
     "execution_count": 19,
     "metadata": {},
     "output_type": "execute_result"
    }
   ],
   "source": [
    "model.fit(scaled_X_train, y_train, epochs=50, verbose=2)"
   ]
  },
  {
   "cell_type": "code",
   "execution_count": 20,
   "metadata": {},
   "outputs": [
    {
     "data": {
      "text/plain": [
       "['loss', 'accuracy']"
      ]
     },
     "execution_count": 20,
     "metadata": {},
     "output_type": "execute_result"
    }
   ],
   "source": [
    "model.metrics_names"
   ]
  },
  {
   "cell_type": "code",
   "execution_count": 24,
   "metadata": {},
   "outputs": [
    {
     "name": "stdout",
     "output_type": "stream",
     "text": [
      "15/15 [==============================] - 0s 500us/step\n"
     ]
    }
   ],
   "source": [
    "pred = (model.predict(scaled_X_test) > 0.5).astype(\"int32\")"
   ]
  },
  {
   "cell_type": "code",
   "execution_count": 25,
   "metadata": {},
   "outputs": [
    {
     "data": {
      "text/plain": [
       "array([[252,   5],\n",
       "       [ 10, 186]], dtype=int64)"
      ]
     },
     "execution_count": 25,
     "metadata": {},
     "output_type": "execute_result"
    }
   ],
   "source": [
    "confusion_matrix(y_test, pred)"
   ]
  },
  {
   "cell_type": "code",
   "execution_count": 26,
   "metadata": {},
   "outputs": [
    {
     "name": "stdout",
     "output_type": "stream",
     "text": [
      "              precision    recall  f1-score   support\n",
      "\n",
      "         0.0       0.96      0.98      0.97       257\n",
      "         1.0       0.97      0.95      0.96       196\n",
      "\n",
      "    accuracy                           0.97       453\n",
      "   macro avg       0.97      0.96      0.97       453\n",
      "weighted avg       0.97      0.97      0.97       453\n",
      "\n"
     ]
    }
   ],
   "source": [
    "print(classification_report(y_test, pred))"
   ]
  },
  {
   "cell_type": "code",
   "execution_count": 27,
   "metadata": {},
   "outputs": [],
   "source": [
    "model.save('Assets/myModel.h5')"
   ]
  },
  {
   "cell_type": "markdown",
   "metadata": {},
   "source": [
    "# To load model"
   ]
  },
  {
   "cell_type": "code",
   "execution_count": 28,
   "metadata": {},
   "outputs": [],
   "source": [
    "from keras.models import load_model"
   ]
  },
  {
   "cell_type": "code",
   "execution_count": 29,
   "metadata": {},
   "outputs": [],
   "source": [
    "newModel = load_model('Assets/myModel.h5')"
   ]
  }
 ],
 "metadata": {
  "kernelspec": {
   "display_name": "Python 3",
   "language": "python",
   "name": "python3"
  },
  "language_info": {
   "codemirror_mode": {
    "name": "ipython",
    "version": 3
   },
   "file_extension": ".py",
   "mimetype": "text/x-python",
   "name": "python",
   "nbconvert_exporter": "python",
   "pygments_lexer": "ipython3",
   "version": "3.10.0"
  }
 },
 "nbformat": 4,
 "nbformat_minor": 2
}
