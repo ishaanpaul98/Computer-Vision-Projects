{
 "cells": [
  {
   "cell_type": "markdown",
   "metadata": {},
   "source": [
    "# Imports"
   ]
  },
  {
   "cell_type": "code",
   "execution_count": 1,
   "metadata": {},
   "outputs": [
    {
     "name": "stderr",
     "output_type": "stream",
     "text": [
      "c:\\Python310\\lib\\site-packages\\scipy\\__init__.py:169: UserWarning: A NumPy version >=1.18.5 and <1.26.0 is required for this version of SciPy (detected version 1.26.4\n",
      "  warnings.warn(f\"A NumPy version >={np_minversion} and <{np_maxversion}\"\n"
     ]
    }
   ],
   "source": [
    "import cv2\n",
    "import numpy as np\n",
    "from sklearn.metrics import pairwise"
   ]
  },
  {
   "cell_type": "markdown",
   "metadata": {},
   "source": [
    "# Global Variables"
   ]
  },
  {
   "cell_type": "code",
   "execution_count": 2,
   "metadata": {},
   "outputs": [],
   "source": [
    "background = None\n",
    "\n",
    "accumulated_weight = 0.5\n",
    "\n",
    "roi_top = 20\n",
    "roi_bottom = 300\n",
    "roi_right = 300\n",
    "roi_left = 600"
   ]
  },
  {
   "cell_type": "code",
   "execution_count": 3,
   "metadata": {},
   "outputs": [],
   "source": [
    "def calcAccumulatedAvg(frame, accumulated_weight):\n",
    "    global background\n",
    "\n",
    "    if background is None:\n",
    "        background = frame.copy().astype('float')\n",
    "        return None\n",
    "    \n",
    "    cv2.accumulateWeighted(frame, background, accumulated_weight)"
   ]
  },
  {
   "cell_type": "code",
   "execution_count": 4,
   "metadata": {},
   "outputs": [],
   "source": [
    "def segment(frame, threshold=25):\n",
    "    global background\n",
    "    \n",
    "    diff = cv2.absdiff(background.astype('uint8'), frame)\n",
    "\n",
    "    ret, thresholdedImg = cv2.threshold(diff, threshold, 255, cv2.THRESH_BINARY)\n",
    "\n",
    "    contours, hierarchy = cv2.findContours(thresholdedImg.copy(), cv2.RETR_EXTERNAL, cv2.CHAIN_APPROX_SIMPLE)\n",
    "\n",
    "    if len(contours) == 0:\n",
    "        return None\n",
    "    \n",
    "    else:\n",
    "        handSegment = max(contours, key=cv2.contourArea)\n",
    "\n",
    "        return (thresholdedImg, handSegment)"
   ]
  },
  {
   "cell_type": "code",
   "execution_count": 5,
   "metadata": {},
   "outputs": [],
   "source": [
    "def countFingers(thresholdedImg, handSegment):\n",
    "\n",
    "    convHull = cv2.convexHull(handSegment)\n",
    "    top    = tuple(convHull[convHull[:, :, 1].argmin()][0])\n",
    "    bottom = tuple(convHull[convHull[:, :, 1].argmax()][0])\n",
    "    left   = tuple(convHull[convHull[:, :, 0].argmin()][0])\n",
    "    right  = tuple(convHull[convHull[:, :, 0].argmax()][0])\n",
    "\n",
    "    cX = (left[0] + right[0]) // 2\n",
    "    cY = (top[1] + bottom[1]) // 2\n",
    "\n",
    "    distance = pairwise.euclidean_distances([(cX, cY)], Y = [left, right, top, bottom])[0]\n",
    "\n",
    "    maxDistance = distance.max()\n",
    "\n",
    "    radius = int(0.8 * maxDistance)\n",
    "    circumference = (2*np.pi*radius)\n",
    "\n",
    "    circularRoi = np.zeros(thresholdedImg.shape[:2], dtype='uint8')\n",
    "\n",
    "    cv2.circle(circularRoi, (cX, cY), radius, 255, 10)\n",
    "\n",
    "    circularRoi = cv2.bitwise_and(thresholdedImg, thresholdedImg, mask=circularRoi)\n",
    "\n",
    "    contours, hierarchy = cv2.findContours(circularRoi.copy(), cv2.RETR_EXTERNAL, cv2.CHAIN_APPROX_NONE)\n",
    "\n",
    "    count = 0\n",
    "\n",
    "    for contour in contours:\n",
    "\n",
    "        (x,y,w,h) = cv2.boundingRect(contour)\n",
    "\n",
    "        outOfWrist = ((cY + (cY * 0.25)) > (y + h))\n",
    "\n",
    "        limitPoints = ((circumference * 0.25) > contour.shape[0])\n",
    "\n",
    "        if outOfWrist and limitPoints:\n",
    "            count += 1\n",
    "\n",
    "    return count \n"
   ]
  },
  {
   "cell_type": "code",
   "execution_count": 6,
   "metadata": {},
   "outputs": [],
   "source": [
    "cam = cv2.VideoCapture(0)\n",
    "\n",
    "numFrames = 0\n",
    "\n",
    "while True:\n",
    "\n",
    "    ret, frame = cam.read()\n",
    "    frame = cv2.flip(frame, 1)\n",
    "    frameCopy = frame.copy()\n",
    "\n",
    "    roi = frame[roi_top: roi_bottom, roi_right:roi_left]\n",
    "\n",
    "    gray = cv2.cvtColor(roi, cv2.COLOR_BGR2GRAY)\n",
    "\n",
    "    gray = cv2.GaussianBlur(gray, (7,7), 0)\n",
    "\n",
    "    if numFrames < 60:\n",
    "\n",
    "        calcAccumulatedAvg(gray, accumulated_weight)\n",
    "\n",
    "        if numFrames <= 59:\n",
    "\n",
    "            cv2.putText(frameCopy, 'WAIT. GETTING BACKGROUND', (200,300), cv2.FONT_HERSHEY_SIMPLEX, 1, (0,0,255), 2)\n",
    "            cv2.imshow('finger count', frameCopy)\n",
    "            \n",
    "    else:\n",
    "\n",
    "        hand = segment(gray)\n",
    "\n",
    "        if hand is not None:\n",
    "\n",
    "            thresholdedImg, handSegment = hand\n",
    "\n",
    "            cv2.drawContours(frameCopy, [handSegment+(roi_right, roi_top)], -1, (255, 0, 0), 5)\n",
    "\n",
    "            fingers = countFingers(thresholdedImg, handSegment)\n",
    "\n",
    "            cv2.putText(frameCopy, str(fingers), (70, 50), cv2.FONT_HERSHEY_SIMPLEX, 1, (0, 0, 255),2 )\n",
    "\n",
    "            cv2.imshow('thresholded', thresholdedImg)\n",
    "\n",
    "\n",
    "    cv2.rectangle(frameCopy, (roi_left, roi_top), (roi_right, roi_bottom), (0,0,255), 5)\n",
    "\n",
    "    numFrames += 1\n",
    "\n",
    "    cv2.imshow('finger count', frameCopy)\n",
    "\n",
    "    k = cv2.waitKey(1) & 0xFF\n",
    "\n",
    "    if k == 27:\n",
    "        break\n",
    "\n",
    "cam.release()\n",
    "cv2.destroyAllWindows()\n"
   ]
  }
 ],
 "metadata": {
  "kernelspec": {
   "display_name": "Python 3",
   "language": "python",
   "name": "python3"
  },
  "language_info": {
   "codemirror_mode": {
    "name": "ipython",
    "version": 3
   },
   "file_extension": ".py",
   "mimetype": "text/x-python",
   "name": "python",
   "nbconvert_exporter": "python",
   "pygments_lexer": "ipython3",
   "version": "3.10.0"
  }
 },
 "nbformat": 4,
 "nbformat_minor": 2
}
